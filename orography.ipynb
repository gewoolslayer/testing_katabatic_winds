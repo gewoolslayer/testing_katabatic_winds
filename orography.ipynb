{
 "cells": [
  {
   "cell_type": "markdown",
   "id": "e9e6ffcc-3575-4c93-808d-c2f76b1773fe",
   "metadata": {},
   "source": [
    "# Wind Speed plotted over Orography Data \n",
    "trying to visualize wind speed over orography. Needed to simplify my other notebook so it would run faster and become less overwhleming."
   ]
  },
  {
   "cell_type": "code",
   "execution_count": null,
   "id": "11b34224-302f-4efe-8ad0-3ebaccc86e00",
   "metadata": {},
   "outputs": [],
   "source": [
    "##importing all the packages needed to run code.\n",
    "import matplotlib.pyplot as plt \n",
    "import matplotlib.patches as mpatches\n",
    "import numpy as np\n",
    "import xarray as xr ## xarray to make most of the plots\n",
    "%matplotlib inline\n",
    "%config InlineBackend.figure_format='retina'\n",
    "import cmocean ## for colors on plots\n",
    "import cartopy.crs as ccrs\n",
    "import matplotlib.path as mpath\n",
    "import nc_time_axis\n",
    "import pandas as pd\n",
    "import zarr ## for google cloud load in\n",
    "import gcsfs\n",
    "import matplotlib.path as mpath"
   ]
  },
  {
   "cell_type": "code",
   "execution_count": null,
   "id": "1e0598da-6e4f-43d9-8da6-41e662e49c14",
   "metadata": {},
   "outputs": [],
   "source": [
    "##importing south polar projection. ## This function was provided by Dr. Beadling in Climate Modeling course.\n",
    "def South_Polar(array,vmin,vmax,cmap):\n",
    "    subplot_kws = dict(projection=ccrs.SouthPolarStereo()) \n",
    "    fig, ax = plt.subplots(figsize=[10, 5],subplot_kw=subplot_kws)\n",
    "    \n",
    "    array.plot.contourf(ax=ax,\n",
    "               transform =ccrs.PlateCarree(),\n",
    "               vmin=vmin,\n",
    "               vmax=vmax,\n",
    "               extend='both',\n",
    "               cmap=cmap, levels=45)\n",
    "\n",
    "    # Limit the map to -50 degrees latitude and below.\n",
    "    ax.set_extent([-180, 180, -90, -55], ccrs.PlateCarree())\n",
    "    \n",
    "    # Compute a circle in axes coordinates, which we can use as a boundary\n",
    "    # for the map. We can pan/zoom as much as we like - the boundary will be\n",
    "    # permanently circular.\n",
    "    \n",
    "    theta = np.linspace(0, 2*np.pi, 100)\n",
    "    center, radius = [0.5, 0.5], 0.5\n",
    "    verts = np.vstack([np.sin(theta), np.cos(theta)]).T\n",
    "    circle = mpath.Path(verts * radius + center)\n",
    "\n",
    "    ax.set_boundary(circle, transform=ax.transAxes)\n",
    "    ax.coastlines()"
   ]
  },
  {
   "cell_type": "code",
   "execution_count": null,
   "id": "e0eec129-3699-46e8-9559-156bb73d8c14",
   "metadata": {},
   "outputs": [],
   "source": [
    "##importing Eastward Near-Surface Wind data from google cloud. Amon\n",
    "df_uas = pd.read_csv('https://storage.googleapis.com/cmip6/cmip6-zarr-consolidated-stores.csv')\n",
    "df_uas\t\n",
    "# step two … # replace with the id you need and other info to ween down datasets \n",
    "df_u = df_uas.query(\"source_id=='GFDL-CM4' & experiment_id == 'piControl' & variable_id == 'uas'& table_id == 'Amon'\")\n",
    "df_u\n",
    "# step three - loading in the data and storing it\n",
    "gcs = gcsfs.GCSFileSystem(token='anon')\n",
    "zstore = df_u.zstore.values[-1]\n",
    "mapper = gcs.get_mapper(zstore)\n",
    "ds_uas = xr.open_zarr(mapper, consolidated=True)"
   ]
  },
  {
   "cell_type": "code",
   "execution_count": null,
   "id": "321d49c7-b271-4623-b20a-37e38b563667",
   "metadata": {},
   "outputs": [],
   "source": [
    "## selecting the UAS variable and renaming it to Uas_winds.\n",
    "## This allows us to look at the value we want for eastward wind.\n",
    "Uas_winds = ds_uas.uas\n",
    "## Slicing the eastward wind into the south pole region, as well as averaging the 500 year time values.\n",
    "## This provides the average for 500 year. Can be named whatever I just named it this bc im cool.\n",
    "Uas_151_650 = Uas_winds.sel(lat=slice(-89.5,-55)).sel(time=slice('0151-01-16','0650-12-16')).mean(dim='time')\n",
    "Uas_151_650"
   ]
  },
  {
   "cell_type": "code",
   "execution_count": null,
   "id": "e8d21ca9-ff45-47c9-9e1d-36ab1ff38dd2",
   "metadata": {},
   "outputs": [],
   "source": [
    "##UAS wind dataset defined above\n",
    "Uas_winds\n",
    "## slicing the UAS into south polar lat\n",
    "Antsliceuas = Uas_winds.sel(lat=slice(-89.5,-55))\n",
    "Antsliceuas\n",
    "## grouping the data into seasons and averaging the 500 seasons\n",
    "uas_seasonal = Antsliceuas.groupby('time.season').mean(dim='time')\n",
    "uas_seasonal\n",
    "## creating seasonal variables\n",
    "uas_summer = uas_seasonal.sel(season='DJF') ##southern hemisphere has summer in december,jan,feb\n",
    "uas_winter = uas_seasonal.sel(season='JJA') ### winter months in southern hemisphere\n",
    "uas_spring = uas_seasonal.sel(season='SON') ## spring months in southern hemisphere\n",
    "uas_fall = uas_seasonal.sel(season='MAM') ## fall months in southern hemisphere"
   ]
  },
  {
   "cell_type": "code",
   "execution_count": null,
   "id": "17a18bc9-1f15-4e94-a4f9-608e65951d56",
   "metadata": {},
   "outputs": [],
   "source": [
    "##importing Northward Near-Surface Wind data from google cloud.\n",
    "df_vas = pd.read_csv('https://storage.googleapis.com/cmip6/cmip6-zarr-consolidated-stores.csv')\n",
    "df_vas\t\n",
    "# step two … # replace with the id you need and other info to ween down datasets \n",
    "df_v = df_vas.query(\"source_id=='GFDL-CM4' & experiment_id == 'piControl' & variable_id == 'vas'& table_id == 'Amon'\")\n",
    "df_v\n",
    "# step three \n",
    "gcs = gcsfs.GCSFileSystem(token='anon')\n",
    "zstore = df_v.zstore.values[-1]\n",
    "mapper = gcs.get_mapper(zstore)\n",
    "ds_vas = xr.open_zarr(mapper, consolidated=True)"
   ]
  },
  {
   "cell_type": "code",
   "execution_count": null,
   "id": "bbf5c5a9-5325-42fb-88e7-173c3191f7f8",
   "metadata": {},
   "outputs": [],
   "source": [
    "## selecting the Vas variable and naming it to Vas_winds. allows us to look at northward winds.\n",
    "Vas_winds = ds_vas.vas\n",
    "## slicing Vas_winds to south polar region and averaging 500 year to get average.\n",
    "Vas_151_650 = Vas_winds.sel(lat=slice(-89.5,-55)).sel(time=slice('0151-01-16','0650-12-16')).mean(dim='time')\n",
    "Vas_151_650"
   ]
  },
  {
   "cell_type": "code",
   "execution_count": null,
   "id": "c4dc9467-1e1b-4c5c-ad04-a06173fad706",
   "metadata": {},
   "outputs": [],
   "source": [
    "## VAS data set as defined earlier\n",
    "Vas_winds\n",
    "## slicing vas into south pole lat\n",
    "antslicevas = Vas_winds.sel(lat=slice(-89.5,-55))\n",
    "## grouping Vas into seasons and averaging the 500 seasons.\n",
    "vas_seasonal = antslicevas.groupby('time.season').mean(dim='time')\n",
    "## plotting to see DJF / month values\n",
    "vas_seasonal\n",
    "## creating seasonal variables ## im not sure we need these actually...\n",
    "vas_summer = vas_seasonal.sel(season='DJF') ##southern hemisphere has summer in december,jan,feb\n",
    "vas_winter = vas_seasonal.sel(season='JJA') ### winter months in southern hemisphere\n",
    "vas_spring = vas_seasonal.sel(season='SON') ## spring months in southern hemisphere\n",
    "vas_fall = vas_seasonal.sel(season='MAM') ## fall months in southern hemisphere"
   ]
  },
  {
   "cell_type": "code",
   "execution_count": null,
   "id": "d28c5bfa-0216-4e41-8e93-444da9f75bb3",
   "metadata": {},
   "outputs": [],
   "source": [
    "## naming CM4 variables like you seen in other notebooks\n",
    "Uas = ds_uas.uas\n",
    "Vas = ds_vas.vas"
   ]
  },
  {
   "cell_type": "code",
   "execution_count": null,
   "id": "92280954-4cd5-4700-b8a4-70b2bce5abab",
   "metadata": {},
   "outputs": [],
   "source": [
    "## merge winds by merging eastward and northward.\n",
    "mergewinds = xr.merge([Uas,Vas]) # merge winds to make it easy\n",
    "xmerge = mergewinds.lon #extracting the lon component fomr the mergewinds array\n",
    "ymerge = mergewinds.lat\n",
    "umerge = mergewinds.uas \n",
    "vmerge = mergewinds.vas\n",
    "speedmerge = np.sqrt(np.square(umerge) + np.square(vmerge)) ## calculating speed using vector sum formula\n",
    "## average\n",
    "timeaveragemerge = mergewinds.sel(time=slice('0151-01-16','0650-12-16')).mean(dim='time')\n",
    "timeaveragemerge"
   ]
  },
  {
   "cell_type": "code",
   "execution_count": null,
   "id": "a7e72d57-c1ad-4ffc-b058-e64054d23799",
   "metadata": {},
   "outputs": [],
   "source": [
    "### slicing the speed for the south pole\n",
    "speedslice = speedmerge.sel(lat=slice(-89.5,-55)).sel(time=slice('0151-01-16','0650-12-16')).mean(dim='time')"
   ]
  },
  {
   "cell_type": "code",
   "execution_count": null,
   "id": "563567d5-a746-4299-8a56-f6329952ed14",
   "metadata": {},
   "outputs": [],
   "source": [
    "## UAS seasonal dataset\n",
    "uas_seasonal\n",
    "## VAS seasonal plot\n",
    "vas_seasonal\n",
    "## merging the UAS seasonal and Vas seasonal to get merge seasonal\n",
    "seasonalmerge = xr.merge([uas_seasonal,vas_seasonal])\n",
    "seasonalmerge"
   ]
  },
  {
   "cell_type": "code",
   "execution_count": null,
   "id": "b98f7cfc-a818-4b91-a206-97444e36b71c",
   "metadata": {},
   "outputs": [],
   "source": [
    "## calculating the seasonal wind speed\n",
    "seasonalspeedmerge = np.sqrt(np.square(seasonalmerge.uas) + np.square(seasonalmerge.vas))\n",
    "## slicing the summer speed\n",
    "Summer_szn_speed = seasonalspeedmerge.sel(season=slice('DJF')).mean(dim='season')\n",
    "## Slicing summer season from seasonalmerge\n",
    "Summer_szn= seasonalmerge.sel(season='DJF')\n",
    "## slicing seasonalspeed to get speed for winter and averaging it\n",
    "Winter_szn_speed = seasonalspeedmerge.sel(season=slice('JJA')).mean(dim='season')\n",
    "Winter_szn= seasonalmerge.sel(season='JJA')\n",
    "## FALL seasonal speed merge and averaging\n",
    "Fall_szn_speed = seasonalspeedmerge.sel(season=slice('MAM')).mean(dim='season')\n",
    "Fall_szn= seasonalmerge.sel(season='MAM')\n",
    "## slicing seasonalspeed to get spring values and averaging it\n",
    "Spring_szn_speed = seasonalspeedmerge.sel(season=slice('SON')).mean(dim='season')\n",
    "Spring_szn= seasonalmerge.sel(season='SON')"
   ]
  },
  {
   "cell_type": "markdown",
   "id": "59eb5eb8-2273-4915-96be-7777c09b2204",
   "metadata": {},
   "source": [
    "# <span style=\"color:red\">ESM4 DATA</span>"
   ]
  },
  {
   "cell_type": "code",
   "execution_count": null,
   "id": "719788a6-0640-4232-9795-dc18dc4e8a19",
   "metadata": {},
   "outputs": [],
   "source": [
    "google_cloud_cmip6 = pd.read_csv('https://storage.googleapis.com/cmip6/cmip6-zarr-consolidated-stores.csv')"
   ]
  },
  {
   "cell_type": "code",
   "execution_count": null,
   "id": "8f47c94e-ccff-49fc-8434-01191e9e2458",
   "metadata": {},
   "outputs": [],
   "source": [
    "#defines the Eastward Near-Surface Wind\n",
    "gfdl_esm4_uas_data = google_cloud_cmip6.query(\n",
    "    \"table_id == 'Amon' & \\\n",
    "    variable_id == 'uas' & \\\n",
    "    experiment_id == 'piControl' & \\\n",
    "    institution_id == 'NOAA-GFDL' &  \\\n",
    "    source_id == 'GFDL-ESM4'\")\n",
    "\n",
    "gcs = gcsfs.GCSFileSystem(token='anon')\n",
    "zstore_esm4_uas = gfdl_esm4_uas_data.zstore.values[-1]\n",
    "mapper_esm4_uas = gcs.get_mapper(zstore_esm4_uas)\n",
    "\n",
    "esm4_uas = xr.open_zarr(mapper_esm4_uas, \n",
    "                                consolidated=True,use_cftime=True).uas.rename({'lat':'latitude',\n",
    "                                                             'lon':'longitude'})\n",
    "\n",
    "#defines the NorthWard Near-Surface Wind\n",
    "gfdl_esm4_vas_data = google_cloud_cmip6.query(\n",
    "    \"table_id == 'Amon' & \\\n",
    "    variable_id == 'vas' & \\\n",
    "    experiment_id == 'piControl' & \\\n",
    "    institution_id == 'NOAA-GFDL' &  \\\n",
    "    source_id == 'GFDL-ESM4'\")\n",
    "\n",
    "zstore_esm4_vas = gfdl_esm4_vas_data.zstore.values[-1]\n",
    "mapper_esm4_vas = gcs.get_mapper(zstore_esm4_vas)\n",
    "\n",
    "esm4_vas = xr.open_zarr(mapper_esm4_vas, \n",
    "                                consolidated=True,use_cftime=True).vas.rename({'lat':'latitude',\n",
    "                                                             'lon':'longitude'})"
   ]
  },
  {
   "cell_type": "code",
   "execution_count": null,
   "id": "382ee5c8-b45b-4f03-8f4b-22de799a1f63",
   "metadata": {},
   "outputs": [],
   "source": [
    "uase4=esm4_uas#.sel(time=slice('0001-01-16','0500-01-16')).mean(dim='time')#.groupby('time.season').mean(dim='time')\n",
    "vase4 = esm4_vas#.sel(time=slice('0001-01-16','0500-01-16')).mean(dim='time')"
   ]
  },
  {
   "cell_type": "code",
   "execution_count": null,
   "id": "5ca06b86-6a3c-4936-9a1a-1e9407b8d5a4",
   "metadata": {},
   "outputs": [],
   "source": [
    "## Slicing the eastward wind into the south pole region, as well as averaging the 500 year time values.\n",
    "## This provides the average for 500 year. Can be named whatever I just named it this bc im cool.\n",
    "uase4_500_avg=uase4.sel(latitude=slice(-89.5,-55)).sel(time=slice('0151-01-16','0650-12-16')).mean(dim='time')"
   ]
  },
  {
   "cell_type": "code",
   "execution_count": null,
   "id": "88a782bb-cc42-4918-bb11-cbdb6a10d468",
   "metadata": {},
   "outputs": [],
   "source": [
    "uase4 #eastward wind variable\n",
    "## slicing the uase4 into south polar lat\n",
    "ESM4_Antsliceuas = uase4.sel(latitude=slice(-89.5,-55))\n",
    "ESM4_Antsliceuas\n",
    "## grouping the data into seasons and averaging the 500 seasons\n",
    "ESM4_uas_seasonal = ESM4_Antsliceuas.groupby('time.season').mean(dim='time')\n",
    "ESM4_uas_seasonal\n",
    "## grouping into seasonal varibles \n",
    "ESM4_uas_summer = ESM4_uas_seasonal.sel(season='DJF') ##southern hemisphere has summer in december,jan,feb\n",
    "ESM4_uas_winter = ESM4_uas_seasonal.sel(season='JJA') ### winter months in southern hemisphere\n",
    "ESM4_uas_spring = ESM4_uas_seasonal.sel(season='SON') ## spring months in southern hemisphere\n",
    "ESM4_uas_fall = ESM4_uas_seasonal.sel(season='MAM') ## fall months in southern hemisphere"
   ]
  },
  {
   "cell_type": "code",
   "execution_count": null,
   "id": "ef35ea19-cdad-43f2-b516-5057b74392d2",
   "metadata": {},
   "outputs": [],
   "source": [
    "## Slicing the eastward wind into the south pole region, as well as averaging the 500 year time values.\n",
    "## This provides the average for 500 year. Can be named whatever I just named it this bc im cool.\n",
    "vase4_500_avg=vase4.sel(latitude=slice(-89.5,-55)).sel(time=slice('0151-01-16','0650-12-16')).mean(dim='time')"
   ]
  },
  {
   "cell_type": "code",
   "execution_count": null,
   "id": "95864011-831f-4c25-b275-65b1d57d613e",
   "metadata": {},
   "outputs": [],
   "source": [
    "vase4 #northward wind variable\n",
    "## slicing the vase4 into south polar lat\n",
    "ESM4_Antslicevas = vase4.sel(latitude=slice(-89.5,-55))\n",
    "ESM4_Antslicevas\n",
    "## grouping the data into seasons and averaging the 500 seasons\n",
    "ESM4_vas_seasonal = ESM4_Antslicevas.groupby('time.season').mean(dim='time')\n",
    "ESM4_vas_seasonal\n",
    "## creating seasonal variables \n",
    "ESM4_vas_summer = ESM4_vas_seasonal.sel(season='DJF') ##southern hemisphere has summer in december,jan,feb\n",
    "ESM4_vas_winter = ESM4_vas_seasonal.sel(season='JJA') ### winter months in southern hemisphere\n",
    "ESM4_vas_spring = ESM4_vas_seasonal.sel(season='SON') ## spring months in southern hemisphere\n",
    "ESM4_vas_fall = ESM4_vas_seasonal.sel(season='MAM') ## fall months in southern hemisphere"
   ]
  },
  {
   "cell_type": "code",
   "execution_count": null,
   "id": "c4b397ca-9799-4858-b0d8-d7647998b0c8",
   "metadata": {},
   "outputs": [],
   "source": [
    "uase4=esm4_uas#.sel(time=slice('0001-01-16','0500-01-16')).mean(dim='time')#.groupby('time.season').mean(dim='time')\n",
    "vase4 = esm4_vas#.sel(time=slice('0001-01-16','0500-01-16')).mean(dim='time')\n",
    "mergedwindse4 = xr.merge([uase4,vase4])\n",
    "esm4_xmerge=mergedwindse4.longitude\n",
    "esm4_ymerge=mergedwindse4.latitude\n",
    "esm4_umerge=mergedwindse4.uas\n",
    "esm4_vmerge=mergedwindse4.vas\n",
    "esm4_speed_merge=np.sqrt(np.square(esm4_umerge) + np.square(esm4_vmerge)).sel(latitude=slice(-90,-55))\n",
    "esm4_speed_merge\n",
    "#wind speed around antarctica \n",
    "#####\n",
    "esm4_timeaveragemerge = mergedwindse4.sel(time=slice('0001-01-16','0500-01-16')).mean(dim='time')\n",
    "esm4_timeaveragemerge"
   ]
  },
  {
   "cell_type": "code",
   "execution_count": null,
   "id": "e02ef1c6-bf57-4003-9307-8d9623e5d413",
   "metadata": {},
   "outputs": [],
   "source": [
    "### slicing the speed for the south pole\n",
    "ESM4_speedslice = esm4_speed_merge.sel(latitude=slice(-89.5,-55)).sel(time=slice('0151-01-16','0650-12-16')).mean(dim='time')\n",
    "ESM4_speedslice"
   ]
  },
  {
   "cell_type": "markdown",
   "id": "eb373698-26bd-4844-8116-eec2e5aa401d",
   "metadata": {},
   "source": [
    "# Orogrpahy Data (SURFACE ALTITUDE)\n",
    "attempting to plot quivers on orography data"
   ]
  },
  {
   "cell_type": "markdown",
   "id": "4060c938-8368-4127-af87-954092c74135",
   "metadata": {},
   "source": [
    "# <span style=\"color:red\">LOADING IN ORGOGAPHY DATA</span>"
   ]
  },
  {
   "cell_type": "code",
   "execution_count": null,
   "id": "036687ef-0579-4e8c-a958-f3271b206aca",
   "metadata": {},
   "outputs": [],
   "source": [
    "df = pd.read_csv('https://storage.googleapis.com/cmip6/cmip6-zarr-consolidated-stores.csv')"
   ]
  },
  {
   "cell_type": "code",
   "execution_count": null,
   "id": "bf53a745-fcfb-49f2-a174-2c5c4425dcbc",
   "metadata": {},
   "outputs": [],
   "source": [
    "df_orog_cm4 = df.query(\"source_id=='GFDL-CM4' & experiment_id == 'piControl' & variable_id == 'orog' & grid_label=='gr1'\")\n",
    "df_orog_cm4\n",
    "\n",
    "gcs = gcsfs.GCSFileSystem(token='anon')\n",
    "zstore = df_orog_cm4.zstore.values[-1]\n",
    "mapper = gcs.get_mapper(zstore)\n",
    "\n",
    "orog_cm4 = xr.open_zarr(mapper, consolidated=True)\n",
    "orog_cm4\n",
    "\n",
    "df_orog_esm4 = df.query(\"source_id=='GFDL-ESM4' & experiment_id == 'piControl' & variable_id == 'orog' & grid_label=='gr1'\")\n",
    "df_orog_esm4\n",
    "\n",
    "gcs = gcsfs.GCSFileSystem(token='anon')\n",
    "zstore = df_orog_esm4.zstore.values[-1]\n",
    "mapper = gcs.get_mapper(zstore)\n",
    "\n",
    "orog_esm4 = xr.open_zarr(mapper, consolidated=True)\n",
    "orog_esm4"
   ]
  },
  {
   "cell_type": "code",
   "execution_count": null,
   "id": "dc8b2e27-f41a-4914-9618-f6c3f57f40f6",
   "metadata": {},
   "outputs": [],
   "source": [
    "#VARIABLES\n",
    "CM4_orog = orog_cm4.orog\n",
    "ESM4_orog = orog_esm4.orog"
   ]
  },
  {
   "cell_type": "markdown",
   "id": "b8a584df-e236-4959-a39c-2468a399da93",
   "metadata": {},
   "source": [
    "# <span style=\"color:red\">CM4 DATA</span>"
   ]
  },
  {
   "cell_type": "code",
   "execution_count": null,
   "id": "2951d9a0-9c7e-4795-a358-7120209f2279",
   "metadata": {},
   "outputs": [],
   "source": [
    "#slicing to get orography just in the south pole region\n",
    "CM4_orog_antslice=CM4_orog.sel(lat=slice(-89.5,-55))\n",
    "CM4_orog_antslice"
   ]
  },
  {
   "cell_type": "code",
   "execution_count": null,
   "id": "eb7c5c1c-9403-4a2f-bdc3-01c2c37acf29",
   "metadata": {},
   "outputs": [],
   "source": [
    "CM4_orog_antslice.plot.contourf(levels=60) #doing this to see the scale"
   ]
  },
  {
   "cell_type": "code",
   "execution_count": null,
   "id": "e50c7f46-fab3-4dec-92e4-b5e26f0da68d",
   "metadata": {},
   "outputs": [],
   "source": [
    "## plotting south pole orography on the south polar function to make a nice beautiful plot\n",
    "South_Polar(CM4_orog_antslice,0,3600,cmap=cmocean.cm.gray_r)\n",
    "## this plots a title on the top of the graph\n",
    "plt.title(\"CM4 Orography\")\n",
    "#not sure what the best color schme is for this tbh"
   ]
  },
  {
   "cell_type": "code",
   "execution_count": null,
   "id": "2795085c-2f29-4a5e-a9bf-6012d18117d3",
   "metadata": {},
   "outputs": [],
   "source": [
    "subplot_kws = dict(projection=ccrs.SouthPolarStereo())\n",
    "fig, ax = plt.subplots(figsize=[10, 6],subplot_kw=subplot_kws)\n",
    "speedslice.plot(ax=ax,\n",
    "               transform =ccrs.PlateCarree(),\n",
    "               vmin=0,\n",
    "               vmax=12,\n",
    "               extend='both',\n",
    "               cmap=cmocean.cm.speed)\n",
    "CM4_orog_antslice.plot.contour(ax=ax,\n",
    "               transform =ccrs.PlateCarree(),\n",
    "               vmin=0,\n",
    "               vmax=3600,\n",
    "               extend='both',\n",
    "               colors='k', levels=10, linewidths=0.8,linestyles='--')\n",
    "    # Limit the map to -50 degrees latitude and below.\n",
    "ax.set_extent([-180, 180, -90, -60], ccrs.PlateCarree())\n",
    "theta = np.linspace(0, 2*np.pi, 100)\n",
    "center, radius = [0.5, 0.5], 0.5\n",
    "verts = np.vstack([np.sin(theta), np.cos(theta)]).T\n",
    "circle = mpath.Path(verts * radius + center)\n",
    "ax.set_boundary(circle, transform=ax.transAxes)\n",
    "ax.coastlines()\n",
    "\n",
    "# Calculate the maximum magnitude of the vectors\n",
    "uas = timeaveragemerge['uas'].values\n",
    "vas = timeaveragemerge['vas'].values\n",
    "magnitude = np.sqrt(uas**2 + vas**2)\n",
    "max_magnitude = magnitude.max()\n",
    "\n",
    "q=timeaveragemerge.isel(lon=slice(None, None, 6),lat=slice(3, 36, 4)).plot.quiver(x='lon',\n",
    "                                       y='lat',\n",
    "                                       u='uas',\n",
    "                                       v='vas',\n",
    "                                       width=0.003,\n",
    "                                       scale=98, color='red',transform =ccrs.PlateCarree())\n",
    "\n",
    "ax.quiverkey(q, X=.9, Y=.95, U=max_magnitude, label=f'{max_magnitude:.0f} m/s',\n",
    "             labelpos='E')\n",
    "plt.title('CM4 Annual Wind Speed (m/s) around Antarctica Over Orography')\n",
    "plt.tight_layout()"
   ]
  },
  {
   "cell_type": "code",
   "execution_count": null,
   "id": "221ced65-2d1d-438d-8cc3-c4f38ff5a228",
   "metadata": {},
   "outputs": [],
   "source": [
    "timeaveragemerge"
   ]
  },
  {
   "cell_type": "code",
   "execution_count": null,
   "id": "d6667929-3933-4908-89c9-bdaa1d0a880c",
   "metadata": {},
   "outputs": [],
   "source": [
    "import matplotlib.pyplot as plt\n",
    "import numpy as np\n",
    "import cartopy.crs as ccrs\n",
    "import cmocean\n",
    "import matplotlib.path as mpath\n",
    "import xarray as xr\n",
    "\n",
    "# Sample data for plotting (replace with your actual data)\n",
    "# speedslice = ...\n",
    "# CM4_orog_antslice = ...\n",
    "# timeaveragemerge = ...\n",
    "\n",
    "# Example DataArrays (replace these with your actual data)\n",
    "# speedslice = xr.DataArray(...)  \n",
    "# CM4_orog_antslice = xr.DataArray(...)  \n",
    "# timeaveragemerge = xr.Dataset(...)\n",
    "\n",
    "subplot_kws = dict(projection=ccrs.SouthPolarStereo())\n",
    "fig, ax = plt.subplots(figsize=[10, 6], subplot_kw=subplot_kws)\n",
    "\n",
    "# Plotting speed slice\n",
    "speedslice.plot(ax=ax,\n",
    "                transform=ccrs.PlateCarree(),\n",
    "                vmin=0,\n",
    "                vmax=12,\n",
    "                extend='both',\n",
    "                cmap=cmocean.cm.speed)\n",
    "\n",
    "# Plotting contour of orography\n",
    "CM4_orog_antslice.plot.contour(ax=ax,\n",
    "                               transform=ccrs.PlateCarree(),\n",
    "                               vmin=0,\n",
    "                               vmax=3600,\n",
    "                               extend='both',\n",
    "                               colors='k',\n",
    "                               levels=10,\n",
    "                               linewidths=0.8,\n",
    "                               linestyles='--')\n",
    "\n",
    "# Limit the map to -50 degrees latitude and below\n",
    "ax.set_extent([-180, 180, -90, -60], ccrs.PlateCarree())\n",
    "\n",
    "# Create a circular boundary around the plot\n",
    "theta = np.linspace(0, 2 * np.pi, 100)\n",
    "center, radius = [0.5, 0.5], 0.5\n",
    "verts = np.vstack([np.sin(theta), np.cos(theta)]).T\n",
    "circle = mpath.Path(verts * radius + center)\n",
    "ax.set_boundary(circle, transform=ax.transAxes)\n",
    "ax.coastlines()\n",
    "\n",
    "# Calculate the avg magnitude of the vectors\n",
    "uas = timeaveragemerge['uas'].values\n",
    "vas = timeaveragemerge['vas'].values\n",
    "avg_mag = np.sqrt(uas**2 + vas**2)\n",
    "avg=avg_mag.mean()\n",
    "\n",
    "\n",
    "# Plot the quiver and store the Quiver object\n",
    "q = timeaveragemerge.isel(lon=slice(None, None, 6), lat=slice(0, 36, 4)).plot.quiver(\n",
    "    x='lon',\n",
    "    y='lat',\n",
    "    u='uas',\n",
    "    v='vas',\n",
    "    width=0.003,\n",
    "    scale=98,\n",
    "    color='red',\n",
    "    transform=ccrs.PlateCarree()\n",
    ")\n",
    "\n",
    "# Add a quiver key with the automatically determined scale\n",
    "ax.quiverkey(q, X=.9, Y=.95, U=avg, label=f'{avg:.2f} m/s', labelpos='E')\n",
    "\n",
    "plt.title('CM4 Annual Wind Speed (m/s) around Antarctica Over Orography')\n",
    "plt.tight_layout()\n",
    "plt.show()\n"
   ]
  },
  {
   "cell_type": "markdown",
   "id": "476abc8d-00d8-4a58-bca3-89358a47d034",
   "metadata": {},
   "source": [
    "# <span style=\"color:red\">ESM4 DATA</span>"
   ]
  },
  {
   "cell_type": "code",
   "execution_count": null,
   "id": "0f3c0168-9a48-487d-9c01-3b11d6fb4829",
   "metadata": {},
   "outputs": [],
   "source": [
    "#slicing to get orography just in the south pole region\n",
    "ESM4_orog_antslice=ESM4_orog.sel(lat=slice(-89.5,-55))\n",
    "ESM4_orog_antslice"
   ]
  },
  {
   "cell_type": "code",
   "execution_count": null,
   "id": "0d3bb4e9-3cef-4b9a-b9be-8a953eca6da2",
   "metadata": {},
   "outputs": [],
   "source": [
    "subplot_kws = dict(projection=ccrs.SouthPolarStereo())\n",
    "fig, ax = plt.subplots(figsize=[12, 8],subplot_kw=subplot_kws)\n",
    "speedslice.plot(ax=ax,\n",
    "               transform =ccrs.PlateCarree(),\n",
    "               vmin=0,\n",
    "               vmax=12,\n",
    "               extend='both',\n",
    "               cmap=cmocean.cm.speed)\n",
    "ESM4_orog_antslice.plot.contour(ax=ax,\n",
    "               transform =ccrs.PlateCarree(),\n",
    "               vmin=0,\n",
    "               vmax=3600,\n",
    "               extend='both',\n",
    "               colors='k', levels=10, linewidths=0.8,linestyles='--')\n",
    "    # Limit the map to -50 degrees latitude and below.\n",
    "ax.set_extent([-180, 180, -90, -60], ccrs.PlateCarree())\n",
    "theta = np.linspace(0, 2*np.pi, 100)\n",
    "center, radius = [0.5, 0.5], 0.5\n",
    "verts = np.vstack([np.sin(theta), np.cos(theta)]).T\n",
    "circle = mpath.Path(verts * radius + center)\n",
    "ax.set_boundary(circle, transform=ax.transAxes)\n",
    "ax.coastlines()\n",
    "\n",
    "esm4_timeaveragemerge.isel(longitude=slice(None, None, 6),latitude=slice(0, 36,4)).plot.quiver(x='longitude',\n",
    "                                       y='latitude',\n",
    "                                       u='uas',\n",
    "                                       v='vas',\n",
    "                                       width=0.003,\n",
    "                                       scale=98, color='red',transform =ccrs.PlateCarree())\n",
    "\n",
    "plt.title('ESM4 Annual Wind Speed (m/s) around Antarctica Over Orography')"
   ]
  },
  {
   "cell_type": "code",
   "execution_count": null,
   "id": "68b3d35b-4fed-4e62-8b38-942abb68af3d",
   "metadata": {},
   "outputs": [],
   "source": [
    "subplot_kws = dict(projection=ccrs.SouthPolarStereo())\n",
    "fig, ax = plt.subplots(figsize=[12, 8],subplot_kw=subplot_kws)\n",
    "speedslice.plot(ax=ax,\n",
    "               transform =ccrs.PlateCarree(),\n",
    "               vmin=0,\n",
    "               vmax=12,\n",
    "               extend='both',\n",
    "               cmap=cmocean.cm.speed)\n",
    "ESM4_orog_antslice.plot.contour(ax=ax,\n",
    "               transform =ccrs.PlateCarree(),\n",
    "               vmin=0,\n",
    "               vmax=3600,\n",
    "               extend='both',\n",
    "               colors='k', levels=10, linewidths=0.8,linestyles='--')\n",
    "    # Limit the map to -50 degrees latitude and below.\n",
    "ax.set_extent([-180, 180, -90, -60], ccrs.PlateCarree())\n",
    "theta = np.linspace(0, 2*np.pi, 100)\n",
    "center, radius = [0.5, 0.5], 0.5\n",
    "verts = np.vstack([np.sin(theta), np.cos(theta)]).T\n",
    "circle = mpath.Path(verts * radius + center)\n",
    "ax.set_boundary(circle, transform=ax.transAxes)\n",
    "ax.coastlines()\n",
    "\n",
    "esm4_timeaveragemerge.isel(longitude=slice(None, None, 6),latitude=slice(3, 36,4)).plot.quiver(x='longitude',\n",
    "                                       y='latitude',\n",
    "                                       u='uas',\n",
    "                                       v='vas',\n",
    "                                       width=0.003,\n",
    "                                       scale=98, color='red',transform =ccrs.PlateCarree())\n",
    "\n",
    "plt.title('ESM4 Annual Wind Speed (m/s) around Antarctica Over Orography')"
   ]
  },
  {
   "cell_type": "markdown",
   "id": "ed8f6d4d-400b-41d0-9033-45af9436937e",
   "metadata": {},
   "source": [
    "# Stream Plot"
   ]
  },
  {
   "cell_type": "code",
   "execution_count": null,
   "id": "38408e0d-9f5f-4d82-8d93-328160b5571a",
   "metadata": {},
   "outputs": [],
   "source": [
    "subplot_kws = dict(projection=ccrs.SouthPolarStereo())\n",
    "fig, ax = plt.subplots(figsize=[12, 8],subplot_kw=subplot_kws)\n",
    "speedslice.plot(ax=ax,\n",
    "               transform =ccrs.PlateCarree(),\n",
    "               vmin=0,\n",
    "               vmax=12,\n",
    "               extend='both',\n",
    "               cmap=cmocean.cm.speed)\n",
    "ESM4_orog_antslice.plot.contour(ax=ax,\n",
    "               transform =ccrs.PlateCarree(),\n",
    "               vmin=0,\n",
    "               vmax=3600,\n",
    "               extend='both',\n",
    "               colors='k', levels=10, linewidths=0.8,linestyles='--')\n",
    "    # Limit the map to -50 degrees latitude and below.\n",
    "ax.set_extent([-180, 180, -90, -60], ccrs.PlateCarree())\n",
    "theta = np.linspace(0, 2*np.pi, 100)\n",
    "center, radius = [0.5, 0.5], 0.5\n",
    "verts = np.vstack([np.sin(theta), np.cos(theta)]).T\n",
    "circle = mpath.Path(verts * radius + center)\n",
    "ax.set_boundary(circle, transform=ax.transAxes)\n",
    "ax.coastlines()\n",
    "\n",
    "esm4_timeaveragemerge.isel(longitude=slice(None, None, 6),latitude=slice(0, 36,4)).plot.streamplot(x='longitude',\n",
    "                                       y='latitude',\n",
    "                                       u='uas',\n",
    "                                       v='vas',\n",
    "                        \n",
    "                                       color='red',density=1,transform =ccrs.PlateCarree())\n",
    "plt.title('ESM4 Annual Wind Speed (m/s) around Antarctica Over Orography')"
   ]
  },
  {
   "cell_type": "code",
   "execution_count": null,
   "id": "423186d4-521b-4737-b3b2-3f9e505d4463",
   "metadata": {},
   "outputs": [],
   "source": [
    "subplot_kws = dict(projection=ccrs.SouthPolarStereo())\n",
    "fig, ax = plt.subplots(figsize=[12, 8], subplot_kw=subplot_kws)\n",
    "\n",
    "# Plotting contour of orography\n",
    "ESM4_orog_antslice.plot.contour(ax=ax,\n",
    "                                transform=ccrs.PlateCarree(),\n",
    "                                vmin=0,\n",
    "                                vmax=3600,\n",
    "                                extend='both',\n",
    "                                colors='k',\n",
    "                                levels=10,\n",
    "                                linewidths=0.8,\n",
    "                                linestyles='--')\n",
    "\n",
    "# Limit the map to -50 degrees latitude and below\n",
    "ax.set_extent([-180, 180, -90, -60], ccrs.PlateCarree())\n",
    "\n",
    "# Create a circular boundary around the plot\n",
    "theta = np.linspace(0, 2 * np.pi, 100)\n",
    "center, radius = [0.5, 0.5], 0.5\n",
    "verts = np.vstack([np.sin(theta), np.cos(theta)]).T\n",
    "circle = mpath.Path(verts * radius + center)\n",
    "ax.set_boundary(circle, transform=ax.transAxes)\n",
    "ax.coastlines()\n",
    "\n",
    "# Extract data for streamplot\n",
    "longitude = esm4_timeaveragemerge['longitude'].values\n",
    "latitude = esm4_timeaveragemerge['latitude'].values\n",
    "uas = esm4_timeaveragemerge['uas'].values\n",
    "vas = esm4_timeaveragemerge['vas'].values\n",
    "\n",
    "# Calculate the speed for colormap\n",
    "speed = np.sqrt(uas**2 + vas**2)\n",
    "\n",
    "# Create the streamplot with a colormap\n",
    "strm = ax.streamplot(longitude, latitude, uas, vas, color=speed, cmap=cmocean.cm.speed,\n",
    "                     transform=ccrs.PlateCarree(), density=1)\n",
    "\n",
    "# Add a colorbar\n",
    "cbar = plt.colorbar(strm.lines, ax=ax, orientation='vertical', pad=0.05)\n",
    "cbar.set_label('Wind Speed (m/s)')\n",
    "\n",
    "plt.title('ESM4 Annual Wind Speed (m/s) around Antarctica Over Orography')\n",
    "plt.tight_layout()\n",
    "plt.show()\n"
   ]
  },
  {
   "cell_type": "markdown",
   "id": "e13195da-3925-48e5-a83b-e2e3757f0570",
   "metadata": {},
   "source": [
    "# new visualizations"
   ]
  },
  {
   "cell_type": "code",
   "execution_count": null,
   "id": "e94eba8b-e31a-4c80-9b1c-f6b884a039bb",
   "metadata": {},
   "outputs": [],
   "source": [
    "def south_pole_map(cols=1, rows=1, fig_size=(12,8), max_extent=-50, facecolor='white'):\n",
    "    ''' \n",
    "    User note: In order to call the function, begin cell with: fig, ax = south_pole_map(**args).\n",
    "    \n",
    "    Neglecting \"fig, ax =\" at the begeinning will not map your data to the existing axes.\n",
    "    \n",
    "    This function sets up a polar projection centered at the South Pole, which DataArrays can be plotted over.\n",
    "    \n",
    "    Optional arguments accepted for figure size, maximum (northward) extent and facecolor. Any number of columns and/or rows are also accepted for multiple subplots.\n",
    "    \n",
    "    If creating multiple subplots, ax=ax[*index*] must be passed in the plot call for each array.\n",
    "    \n",
    "    By default, these are set to (12,8), -50ºS and gray, respectively. Columns/Rows set to 1 by default – specifying axes in which to plot data is not necessary when using default column number.\n",
    "    '''\n",
    "    import matplotlib.path as mpath\n",
    "    import numpy as np\n",
    "    import cartopy.crs as ccrs\n",
    "    \n",
    "    fig,ax = plt.subplots(figsize=fig_size, ncols=cols, nrows=rows, subplot_kw={'projection': ccrs.SouthPolarStereo(), 'facecolor':facecolor}, layout='constrained')\n",
    "\n",
    "    theta = np.linspace(0, 2*np.pi, 100)\n",
    "    center, radius = [0.5, 0.5], 0.5\n",
    "    verts = np.vstack([np.sin(theta), np.cos(theta)]).T\n",
    "    circle = mpath.Path(verts * radius + center)\n",
    "    \n",
    "    if rows>1 and cols>1:\n",
    "        for i in range(rows):\n",
    "            for j in range(cols):\n",
    "                ax[i,j].set_boundary(circle, transform=ax[i,j].transAxes)\n",
    "\n",
    "                # lat/long map extents. shows south pole out to 50ºS\n",
    "                ax[i,j].set_extent([-180, 180, -90, max_extent], ccrs.PlateCarree())\n",
    "    elif cols>1 and rows==1:\n",
    "        for i in range(cols):\n",
    "            ax[i].set_boundary(circle, transform=ax[i].transAxes)\n",
    "\n",
    "            # lat/long map extents. shows south pole out to 50ºS\n",
    "            ax[i].set_extent([-180, 180, -90, max_extent], ccrs.PlateCarree())\n",
    "    elif rows>1 and cols==1:\n",
    "        for i in range(rows):\n",
    "            ax[i].set_boundary(circle, transform=ax[i].transAxes)\n",
    "\n",
    "            # lat/long map extents. shows south pole out to 50ºS\n",
    "            ax[i].set_extent([-180, 180, -90, max_extent], ccrs.PlateCarree())\n",
    "    else:\n",
    "        ax.set_boundary(circle, transform=ax.transAxes)\n",
    "\n",
    "            # lat/long map extents. shows south pole out to 50ºS\n",
    "        ax.set_extent([-180, 180, -90, max_extent], ccrs.PlateCarree())\n",
    "    \n",
    "    \n",
    "    #must return fig, ax when creating multiple subplots in a function\n",
    "    return fig, ax"
   ]
  },
  {
   "cell_type": "code",
   "execution_count": null,
   "id": "246d9045-e33c-4bc6-9a0f-a1e058d5d6cd",
   "metadata": {},
   "outputs": [],
   "source": [
    "cm4x_static=xr.open_dataset('/backup/tuq41374/model_output/cm4x/p25/atmos/static/atmos.static.nc')\n",
    "cm4_static=xr.open_dataset('/backup/tuq41374/model_output/cmip6/piControl/gfdl_cm4/atmos/static/atmos.static.nc')\n",
    "esm4_static=xr.open_dataset('/backup/tuq41374/model_output/cmip6/piControl/gfdl_esm4/atmos/static/atmos.static.nc')"
   ]
  },
  {
   "cell_type": "code",
   "execution_count": null,
   "id": "bfe33570-efd4-41d1-b89c-b3ca292376fd",
   "metadata": {},
   "outputs": [],
   "source": [
    "cm4x_static_oceanNAN= cm4x_static.land_mask.where(cm4x_static.land_mask>0)\n",
    "cm4x_elevation= cm4x_static_oceanNAN * cm4x_static.zsurf\n",
    "\n",
    "cm4_static_oceanNAN= cm4_static.land_mask.where(cm4_static.land_mask>0)\n",
    "cm4_elevation= cm4_static_oceanNAN * cm4_static.zsurf\n",
    "\n",
    "esm4_static_oceanNAN= esm4_static.land_mask.where(esm4_static.land_mask>0)\n",
    "esm4_elevation= esm4_static_oceanNAN*esm4_static.zsurf"
   ]
  },
  {
   "cell_type": "code",
   "execution_count": null,
   "id": "9924448f-8d9f-41a3-9a8b-1412d49e841a",
   "metadata": {},
   "outputs": [],
   "source": [
    "fig, ax = south_pole_map(cols=1,rows=1,fig_size=(15, 15))\n",
    "contour=esm4_elevation.plot.contourf(ax=ax,\n",
    "               transform =ccrs.PlateCarree(),\n",
    "               vmin=0,\n",
    "               vmax=4300,\n",
    "               cmap='Greys', levels=30)\n",
    "#adding label\n",
    "cbar = fig.colorbar(contour, ax=ax, orientation='vertical', fraction=0.046, pad=0.04)\n",
    "cbar.set_label('Elevation (m)', fontsize=12)\n",
    "\n",
    "esm4_elevation.plot.contour(ax=ax,\n",
    "               transform =ccrs.PlateCarree(),\n",
    "               colors='white', levels=30,alpha=0.5)\n",
    "esm4_static_oceanNAN.plot.contour(transform =ccrs.PlateCarree(),\n",
    "               colors='k', linewidths=3)\n",
    "ax.set_extent([-180, 180, -90, -60], ccrs.PlateCarree())\n",
    "\n",
    "# Create a circular boundary around the plot\n",
    "theta = np.linspace(0, 2 * np.pi, 100)\n",
    "center, radius = [0.5, 0.5], 0.5\n",
    "verts = np.vstack([np.sin(theta), np.cos(theta)]).T\n",
    "circle = mpath.Path(verts * radius + center)\n",
    "ax.set_boundary(circle, transform=ax.transAxes)\n",
    "ax.coastlines()\n",
    "\n",
    "# Extract data for streamplot\n",
    "longitude = esm4_timeaveragemerge['longitude'].values\n",
    "latitude = esm4_timeaveragemerge['latitude'].values\n",
    "uas = esm4_timeaveragemerge['uas'].values\n",
    "vas = esm4_timeaveragemerge['vas'].values\n",
    "\n",
    "# Calculate the speed for colormap\n",
    "speed = np.sqrt(uas**2 + vas**2)\n",
    "\n",
    "# Create the streamplot with a colormap\n",
    "strm = ax.streamplot(longitude, latitude, uas, vas, color=speed, cmap=cmocean.cm.speed,\n",
    "                     transform=ccrs.PlateCarree(),density=2,linewidth=1)\n",
    "\n",
    "# Add a colorbar\n",
    "cbar = plt.colorbar(strm.lines, ax=ax, orientation='vertical', pad=0.05)\n",
    "cbar.set_label('Wind Speed (m/s)')\n",
    "\n",
    "plt.title('ESM4 Annual Wind Speed (m/s) around Antarctica Over Orography')\n",
    "\n",
    "plt.show()\n"
   ]
  },
  {
   "cell_type": "markdown",
   "id": "642952fc-16df-4c45-ad0c-0455f6aca623",
   "metadata": {},
   "source": [
    "# era 5 wind data"
   ]
  },
  {
   "cell_type": "code",
   "execution_count": null,
   "id": "631ac969-744a-4281-99c1-769bdf7ac341",
   "metadata": {},
   "outputs": [],
   "source": [
    "#era5_uas=xr.open_dataset('/home/tu.temple.edu/tuo15329/era5_wind/era5_10m_u_component_of_wind_1940-2024_monthly_ensemble.nc')\n",
    "#ERA5_combine_uas =era5_uas.sel(expver=1).combine_first(era5_uas.sel(expver=5))\n",
    "#ERA5_combine_uas.load()\n",
    "#era5_uas_use=ERA5_combine_uas.u10.mean(dim='number')"
   ]
  },
  {
   "cell_type": "code",
   "execution_count": null,
   "id": "677aeefe-2f11-4166-83ce-494696ac35f6",
   "metadata": {},
   "outputs": [],
   "source": [
    "#era5_vas=xr.open_dataset('/home/tu.temple.edu/tuo15329/era5_wind/era5_10m_v_component_of_wind_1940-2024_monthly_ensemble.nc')"
   ]
  },
  {
   "cell_type": "code",
   "execution_count": null,
   "id": "b71caf13-7bd6-41f5-a419-845fa7ca8958",
   "metadata": {},
   "outputs": [],
   "source": [
    "#era5_windspeed=xr.open_dataset('/home/tu.temple.edu/tuo15329/era5_wind/era5_10m_wind_speed_1940-2024_monthly_ensemble.nc')"
   ]
  },
  {
   "cell_type": "code",
   "execution_count": null,
   "id": "c27fe3c5-6a29-416a-a2d5-5468e4c69860",
   "metadata": {},
   "outputs": [],
   "source": []
  }
 ],
 "metadata": {
  "kernelspec": {
   "display_name": "Python 3 (ipykernel)",
   "language": "python",
   "name": "python3"
  },
  "language_info": {
   "codemirror_mode": {
    "name": "ipython",
    "version": 3
   },
   "file_extension": ".py",
   "mimetype": "text/x-python",
   "name": "python",
   "nbconvert_exporter": "python",
   "pygments_lexer": "ipython3",
   "version": "3.9.19"
  }
 },
 "nbformat": 4,
 "nbformat_minor": 5
}
